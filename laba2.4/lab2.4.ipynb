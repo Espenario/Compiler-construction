{
 "cells": [
  {
   "cell_type": "code",
   "execution_count": null,
   "metadata": {},
   "outputs": [
    {
     "ename": "",
     "evalue": "",
     "output_type": "error",
     "traceback": [
      "\u001b[1;31mRunning cells with '/usr/bin/python3.10' requires the ipykernel package.\n",
      "\u001b[1;31mRun the following command to install 'ipykernel' into the Python environment. \n",
      "\u001b[1;31mCommand: '/usr/bin/python3.10 -m pip install ipykernel -U --user --force-reinstall'"
     ]
    }
   ],
   "source": [
    "import re\n",
    "from dataclasses import dataclass\n",
    "from enum import Enum, auto\n",
    "from queue import Queue\n",
    "from typing import List, Optional, Union\n",
    "from collections import defaultdict"
   ]
  },
  {
   "cell_type": "code",
   "execution_count": null,
   "metadata": {},
   "outputs": [
    {
     "ename": "",
     "evalue": "",
     "output_type": "error",
     "traceback": [
      "\u001b[1;31mRunning cells with '/usr/bin/python3.10' requires the ipykernel package.\n",
      "\u001b[1;31mRun the following command to install 'ipykernel' into the Python environment. \n",
      "\u001b[1;31mCommand: '/usr/bin/python3.10 -m pip install ipykernel -U --user --force-reinstall'"
     ]
    }
   ],
   "source": [
    "class Tag(Enum):\n",
    "    ERROR = auto()\n",
    "    TERM = auto()\n",
    "    NTERM = auto()\n",
    "    AXIOM = auto()\n",
    "    COMMENT = auto()\n",
    "    OPEN = auto()\n",
    "    CLOSE = auto()\n",
    "    ITERSTART = auto()\n",
    "    ITEREND = auto()\n",
    "    CONCAT = auto()\n",
    "    SEPARATOR = auto()\n",
    "    UNMATCHED = auto()\n",
    "    END = auto()\n",
    "\n",
    "\n",
    "@dataclass\n",
    "class Token:\n",
    "    \"\"\"Represents tokens for lexical analysis.\"\"\"\n",
    "\n",
    "    tag: Tag\n",
    "    value: str = \"\"\n",
    "\n",
    "\n",
    "@dataclass\n",
    "class CoordsToken(Token):\n",
    "    start_idx: int = 0\n",
    "    end_idx: int = 0\n",
    "\n",
    "    def __repr__(self):\n",
    "        return f\"{self.tag} ({self.start_idx}, {self.end_idx}): {self.value}\""
   ]
  },
  {
   "cell_type": "code",
   "execution_count": null,
   "metadata": {},
   "outputs": [
    {
     "ename": "",
     "evalue": "",
     "output_type": "error",
     "traceback": [
      "\u001b[1;31mRunning cells with '/usr/bin/python3.10' requires the ipykernel package.\n",
      "\u001b[1;31mRun the following command to install 'ipykernel' into the Python environment. \n",
      "\u001b[1;31mCommand: '/usr/bin/python3.10 -m pip install ipykernel -U --user --force-reinstall'"
     ]
    }
   ],
   "source": [
    "class Lexer:\n",
    "    \"\"\"Performs lexical analysis of input data.\"\"\"\n",
    "\n",
    "    def __init__(self, config: dict):\n",
    "        self.config = config\n",
    "        self._re_mapping = {\n",
    "            r\"'.*\\n\": Tag.COMMENT,\n",
    "            r\"<axiom <({})>>\\n\".format(config[\"nonterminal\"]): Tag.AXIOM,\n",
    "            config[\"open\"]: Tag.OPEN,\n",
    "            config[\"close\"]: Tag.CLOSE,\n",
    "            config[\"iter_start\"]: Tag.ITERSTART,\n",
    "            config[\"iter_end\"]: Tag.ITEREND,\n",
    "            config[\"terminal\"]: Tag.TERM,\n",
    "            config[\"nonterminal\"]: Tag.NTERM,   \n",
    "            config[\"separator\"]: Tag.SEPARATOR,\n",
    "        }\n",
    "        if config[\"concatenation\"]:\n",
    "            self._re_mapping[config[\"concatenation\"]] = Tag.CONCAT\n",
    "\n",
    "    def _match_token(self, input_str: str) -> Token:\n",
    "        for pattern, tag in self._re_mapping.items():\n",
    "            matched = re.match(pattern, input_str)\n",
    "            if matched:\n",
    "                return Token(tag=tag, value=matched.group())\n",
    "\n",
    "        return Token(tag=Tag.UNMATCHED, value=input_str[0])\n",
    "\n",
    "    def tokenize(self, input_str: str) -> Queue:\n",
    "        tokens = Queue()\n",
    "        idx = 0\n",
    "\n",
    "        while idx < len(input_str):\n",
    "            token = self._match_token(input_str[idx:])\n",
    "            if token.tag == Tag.UNMATCHED and token.value.isspace() or token.tag == Tag.COMMENT:\n",
    "                idx += len(token.value)\n",
    "            else:\n",
    "                if token.tag == Tag.AXIOM:\n",
    "                    axiom_value = re.search(self.config[\"nonterminal\"], token.value).group(0) # type: ignore\n",
    "                    tokens.put(CoordsToken(Tag.AXIOM, axiom_value, idx, idx + len(token.value)))\n",
    "                else:\n",
    "                    tokens.put(CoordsToken(token.tag, token.value, idx, idx + len(token.value)))\n",
    "                idx += len(token.value)\n",
    "\n",
    "        tokens.put(CoordsToken(Tag.END, \"\", idx+1, idx+1))\n",
    "        return tokens"
   ]
  },
  {
   "cell_type": "code",
   "execution_count": null,
   "metadata": {},
   "outputs": [
    {
     "ename": "",
     "evalue": "",
     "output_type": "error",
     "traceback": [
      "\u001b[1;31mRunning cells with '/usr/bin/python3.10' requires the ipykernel package.\n",
      "\u001b[1;31mRun the following command to install 'ipykernel' into the Python environment. \n",
      "\u001b[1;31mCommand: '/usr/bin/python3.10 -m pip install ipykernel -U --user --force-reinstall'"
     ]
    }
   ],
   "source": [
    "config = {\n",
    "    \"open\": \"<\",\n",
    "    \"close\": \">\",\n",
    "    \"iter_start\": \"{\",\n",
    "    \"iter_end\": \"}\",\n",
    "    \"terminal\": r\"[a-z\\(\\)\\+\\-\\*\\/]\",\n",
    "    \"nonterminal\": r\"[A-Z]'?\",\n",
    "    \"separator\": \"\\n\",\n",
    "    \"concatenation\": \"\",\n",
    "}"
   ]
  },
  {
   "cell_type": "code",
   "execution_count": null,
   "metadata": {},
   "outputs": [
    {
     "ename": "",
     "evalue": "",
     "output_type": "error",
     "traceback": [
      "\u001b[1;31mRunning cells with '/usr/bin/python3.10' requires the ipykernel package.\n",
      "\u001b[1;31mRun the following command to install 'ipykernel' into the Python environment. \n",
      "\u001b[1;31mCommand: '/usr/bin/python3.10 -m pip install ipykernel -U --user --force-reinstall'"
     ]
    }
   ],
   "source": [
    "class Nonterminal:\n",
    "    def __init__(self, symbol, rule_id=0):\n",
    "        self.symbol = symbol\n",
    "        self.rule_id = rule_id\n",
    "        self.children = []\n",
    "\n",
    "    def __eq__(self, other):\n",
    "        return (isinstance(other, Nonterminal) and\n",
    "                self.symbol == other.symbol)\n",
    "\n",
    "    def __hash__(self):\n",
    "        return hash(self.symbol)\n",
    "\n",
    "    def __str__(self):\n",
    "        return self.symbol\n",
    "    \n",
    "    def print(self, indent):\n",
    "        print(indent + str(self) + \":\")\n",
    "        for child in self.children:\n",
    "            child.print(indent + \"\\t\")\n",
    "\n",
    "\n",
    "class Terminal:\n",
    "    def __init__(self, symbol):\n",
    "        self.symbol = symbol\n",
    "\n",
    "    def __eq__(self, other):\n",
    "        return (isinstance(other, Terminal) and\n",
    "                self.symbol == other.symbol)\n",
    "\n",
    "    def __hash__(self):\n",
    "        return hash(self.symbol)\n",
    "\n",
    "    def __str__(self):\n",
    "        return self.symbol\n",
    "    \n",
    "    def print(self, indent):\n",
    "        print(indent + str(self))"
   ]
  },
  {
   "attachments": {},
   "cell_type": "markdown",
   "metadata": {},
   "source": [
    "```\n",
    "<Grammar> ::= <Rules>.\n",
    "\n",
    "<Rules> ::= <Rule> <RestRules>.\n",
    "<RestRules> ::= <Sep> <Rule> <RestRules> | .\n",
    "\n",
    "<Rule> ::= <Open> <Nterm> <RHS> <Close>.\n",
    "\n",
    "<RHS> ::= <RHSTerm> <RestRHS>.\n",
    "<RestRHS> ::= <Alt> <RHSTerm> <RestRHS> | .\n",
    "\n",
    "<RHSTerm> ::= <RHSFactor> <RestRHSTerm>.\n",
    "<RestRHSTerm> ::= <Concat> <RHSFactor> <RestRHSTerm> | .\n",
    "\n",
    "<RHSFactor> ::= <Term> | <Nterm> | <Group> | <Iter> | <Empty>.\n",
    "\n",
    "<Group> ::= <GroupStart> <RHS> <GroupEnd>.\n",
    "<Iter> ::= <IterStart> <RHS> <IterEnd>.\n",
    "\n",
    "```\n",
    "\n",
    "T = `{Term, Nterm, Open, Close, $}`,\n",
    "\n",
    "N = `{Grammar, Rules, RestRules, Rule, RHS, RestRHS, RHSTerm, RestRHSTerm, RHSFactor, Group, Iter}`,\n",
    "\n",
    "S = `Grammar`"
   ]
  },
  {
   "cell_type": "code",
   "execution_count": null,
   "metadata": {},
   "outputs": [
    {
     "ename": "",
     "evalue": "",
     "output_type": "error",
     "traceback": [
      "\u001b[1;31mRunning cells with '/usr/bin/python3.10' requires the ipykernel package.\n",
      "\u001b[1;31mRun the following command to install 'ipykernel' into the Python environment. \n",
      "\u001b[1;31mCommand: '/usr/bin/python3.10 -m pip install ipykernel -U --user --force-reinstall'"
     ]
    }
   ],
   "source": [
    "test_str = \"\"\"<E    <T {<\n",
    "            <+>\n",
    "            <->\n",
    "          > T}>>\n",
    "<T    <F {< \n",
    "            <*> \n",
    "            </>\n",
    "          > F}>>\n",
    "<F    <n>\n",
    "      <- F>\n",
    "      <( E )>>\"\"\""
   ]
  },
  {
   "cell_type": "code",
   "execution_count": null,
   "metadata": {},
   "outputs": [
    {
     "ename": "",
     "evalue": "",
     "output_type": "error",
     "traceback": [
      "\u001b[1;31mRunning cells with '/usr/bin/python3.10' requires the ipykernel package.\n",
      "\u001b[1;31mRun the following command to install 'ipykernel' into the Python environment. \n",
      "\u001b[1;31mCommand: '/usr/bin/python3.10 -m pip install ipykernel -U --user --force-reinstall'"
     ]
    }
   ],
   "source": [
    "@dataclass\n",
    "class Empty:\n",
    "    symbol: str = ''\n",
    "\n",
    "\n",
    "@dataclass\n",
    "class Terminal:\n",
    "    symbol: str\n",
    "\n",
    "    def __hash__(self):\n",
    "        return hash(self.symbol)\n",
    "\n",
    "\n",
    "@dataclass\n",
    "class Nonterminal:\n",
    "    symbol: str\n",
    "\n",
    "    def __eq__(self, other):\n",
    "        return isinstance(other, Nonterminal) and self.symbol == other.symbol\n",
    "\n",
    "    def __hash__(self):\n",
    "        return hash(self.symbol)\n",
    "\n",
    "\n",
    "@dataclass\n",
    "class GroupNode:\n",
    "    value: Optional[None]\n",
    "\n",
    "\n",
    "@dataclass\n",
    "class IterNode:\n",
    "    value: Optional[None]\n",
    "\n",
    "\n",
    "@dataclass\n",
    "class AltNode:\n",
    "    nodes: List[Union[Empty, Terminal, Nonterminal, GroupNode, IterNode]]\n",
    "\n",
    "\n",
    "@dataclass\n",
    "class RHS:\n",
    "    nodes: List[AltNode]\n",
    "\n",
    "\n",
    "@dataclass\n",
    "class Rule:\n",
    "    lhs: Nonterminal\n",
    "    rhs: RHS"
   ]
  },
  {
   "cell_type": "code",
   "execution_count": null,
   "metadata": {},
   "outputs": [
    {
     "ename": "",
     "evalue": "",
     "output_type": "error",
     "traceback": [
      "\u001b[1;31mRunning cells with '/usr/bin/python3.10' requires the ipykernel package.\n",
      "\u001b[1;31mRun the following command to install 'ipykernel' into the Python environment. \n",
      "\u001b[1;31mCommand: '/usr/bin/python3.10 -m pip install ipykernel -U --user --force-reinstall'"
     ]
    }
   ],
   "source": [
    "class Parser:\n",
    "    \"\"\"Performs syntax analysis of input data.\"\"\"\n",
    "\n",
    "    def parse(self, tokens: Queue) -> tuple[list[Rule], set[Nonterminal]]:\n",
    "        nonterminals = set()\n",
    "\n",
    "        def rules() -> list[Rule]:\n",
    "            \"\"\"<Rules> ::= <Rule> <RestRules>.\"\"\"\n",
    "            return rest_rules([rule()])\n",
    "\n",
    "        def rest_rules(rules) -> list[Rule]:\n",
    "            \"\"\"<RestRules> ::= <Sep> <Rule> <RestRules> | .\"\"\"\n",
    "            if tokens.queue[0].tag == Tag.SEPARATOR:\n",
    "                tokens.get()\n",
    "                rules.append(rule())\n",
    "                return rest_rules(rules)\n",
    "            return rules\n",
    "\n",
    "        def rule():\n",
    "            \"\"\"<Rule> ::= <Open> <Nterm> <RHS> <Close>.\"\"\"\n",
    "            assert tokens.get().tag == Tag.OPEN\n",
    "            lhs = tokens.get()\n",
    "            assert lhs.tag == Tag.NTERM\n",
    "            nonterminals.add(Nonterminal(lhs.value))\n",
    "            rhs_ = rhs()\n",
    "            assert tokens.get().tag == Tag.CLOSE\n",
    "            return Rule(Nonterminal(lhs.value), rhs_)\n",
    "\n",
    "        def rhs():\n",
    "            \"\"\"<RHS> ::= <RHSTerm> <RestRHS>.\"\"\"\n",
    "            return RHS(rest_rhs([rhs_term()]))\n",
    "\n",
    "        def rest_rhs(terms):\n",
    "            \"\"\"<RestRHS> ::= <Alt> <RHSTerm> <RestRHS> | .\"\"\"\n",
    "            if tokens.queue[0].tag == Tag.SEPARATOR:\n",
    "                tokens.get()\n",
    "                terms.append(rhs_term())\n",
    "                return rest_rhs(terms)\n",
    "            return terms\n",
    "\n",
    "        def rhs_term():\n",
    "            \"\"\"<RHSTerm> ::= <RHSFactor> <RestRHSTerm>.\"\"\"\n",
    "            return AltNode(rest_rhs_term([rhs_factor()]))\n",
    "\n",
    "        def rest_rhs_term(factors):\n",
    "            \"\"\"<RestRHSTerm> ::= <Concat> <RHSFactor> <RestRHSTerm> | .\"\"\"\n",
    "            if tokens.queue[0].tag == Tag.CONCAT:\n",
    "                tokens.get()\n",
    "                factors.append(rhs_factor())\n",
    "                return rest_rhs_term(factors)\n",
    "            if tokens.queue[0].tag in [\n",
    "                Tag.TERM,\n",
    "                Tag.NTERM,\n",
    "                Tag.OPEN,\n",
    "                Tag.ITERSTART,\n",
    "            ]:\n",
    "                factors.append(rhs_factor())\n",
    "                return rest_rhs_term(factors)\n",
    "            return factors\n",
    "\n",
    "        def rhs_factor():\n",
    "            \"\"\"<RHSFactor> ::= (<Term> | <Nterm>\n",
    "                                | <Open> <RHS> <Close>\n",
    "                                | <IterStart> <RHS> <IterEnd>)?.\"\"\"\n",
    "            if tokens.queue[0].tag == Tag.CLOSE:\n",
    "                return Empty()\n",
    "            token = tokens.get()\n",
    "            \n",
    "            if token.tag == Tag.SEPARATOR:\n",
    "                token = tokens.get()\n",
    "            if token.tag == Tag.TERM:\n",
    "                return Terminal(token.value)\n",
    "            if token.tag == Tag.NTERM:\n",
    "                nonterminals.add(Nonterminal(token.value))\n",
    "                return Nonterminal(token.value)\n",
    "            if token.tag == Tag.OPEN:\n",
    "                rhs_ = rhs()\n",
    "                assert tokens.get().tag == Tag.CLOSE\n",
    "                return GroupNode(rhs_)\n",
    "            if token.tag == Tag.ITERSTART:\n",
    "                rhs_ = rhs()\n",
    "                assert tokens.get().tag == Tag.ITEREND\n",
    "                return IterNode(rhs_)\n",
    "            raise Exception(f\"Wrong Factor <{token.tag}> with value <{token.value}>\")\n",
    "\n",
    "        rules_ = rules()\n",
    "        return rules_, nonterminals"
   ]
  },
  {
   "cell_type": "code",
   "execution_count": null,
   "metadata": {},
   "outputs": [
    {
     "ename": "",
     "evalue": "",
     "output_type": "error",
     "traceback": [
      "\u001b[1;31mRunning cells with '/usr/bin/python3.10' requires the ipykernel package.\n",
      "\u001b[1;31mRun the following command to install 'ipykernel' into the Python environment. \n",
      "\u001b[1;31mCommand: '/usr/bin/python3.10 -m pip install ipykernel -U --user --force-reinstall'"
     ]
    }
   ],
   "source": [
    "lexer = Lexer(config)\n",
    "tokens = lexer.tokenize(test_str)\n",
    "rules, nonterminals = Parser().parse(tokens)"
   ]
  },
  {
   "cell_type": "code",
   "execution_count": null,
   "metadata": {},
   "outputs": [
    {
     "ename": "",
     "evalue": "",
     "output_type": "error",
     "traceback": [
      "\u001b[1;31mRunning cells with '/usr/bin/python3.10' requires the ipykernel package.\n",
      "\u001b[1;31mRun the following command to install 'ipykernel' into the Python environment. \n",
      "\u001b[1;31mCommand: '/usr/bin/python3.10 -m pip install ipykernel -U --user --force-reinstall'"
     ]
    }
   ],
   "source": [
    "print(nonterminals)\n",
    "\n",
    "for rule in rules:\n",
    "    print(rule)"
   ]
  },
  {
   "cell_type": "code",
   "execution_count": null,
   "metadata": {},
   "outputs": [
    {
     "ename": "",
     "evalue": "",
     "output_type": "error",
     "traceback": [
      "\u001b[1;31mRunning cells with '/usr/bin/python3.10' requires the ipykernel package.\n",
      "\u001b[1;31mRun the following command to install 'ipykernel' into the Python environment. \n",
      "\u001b[1;31mCommand: '/usr/bin/python3.10 -m pip install ipykernel -U --user --force-reinstall'"
     ]
    }
   ],
   "source": [
    "def first(rules, nonterminals):\n",
    "    rules_by_nts = defaultdict(list)\n",
    "\n",
    "    for rule in rules:\n",
    "        rules_by_nts[rule.lhs].append(rule)\n",
    "\n",
    "    def first_rec(curr, first_set):\n",
    "        if isinstance(curr, RHS):\n",
    "            for node in curr.nodes:\n",
    "                first_set |= first_rec(node, first_set)\n",
    "            return first_set\n",
    "        elif isinstance(curr, AltNode):\n",
    "            return first_set | first_rec(curr.nodes[0], first_set)\n",
    "        elif isinstance(curr, IterNode):\n",
    "            return first_set | Empty() | first_rec(curr.value, first_set)\n",
    "        elif isinstance(curr, GroupNode):\n",
    "            return first_set | first_rec(curr.value, first_set)\n",
    "        elif isinstance(curr, Terminal):\n",
    "            first_set.add(curr)\n",
    "            return first_set\n",
    "        elif isinstance(curr, Nonterminal):\n",
    "            for rule in rules_by_nts[curr]:\n",
    "                first_set |= first_rec(rule.rhs, first_set)\n",
    "            return first_set\n",
    "        \n",
    "    for nt in nonterminals:\n",
    "        print(nt, \"- FIRST:\", first_rec(rules_by_nts[nt][0].rhs, set()))"
   ]
  },
  {
   "cell_type": "code",
   "execution_count": null,
   "metadata": {},
   "outputs": [
    {
     "ename": "",
     "evalue": "",
     "output_type": "error",
     "traceback": [
      "\u001b[1;31mRunning cells with '/usr/bin/python3.10' requires the ipykernel package.\n",
      "\u001b[1;31mRun the following command to install 'ipykernel' into the Python environment. \n",
      "\u001b[1;31mCommand: '/usr/bin/python3.10 -m pip install ipykernel -U --user --force-reinstall'"
     ]
    }
   ],
   "source": [
    "first(rules, nonterminals)"
   ]
  },
  {
   "cell_type": "code",
   "execution_count": null,
   "metadata": {},
   "outputs": [
    {
     "ename": "",
     "evalue": "",
     "output_type": "error",
     "traceback": [
      "\u001b[1;31mRunning cells with '/usr/bin/python3.10' requires the ipykernel package.\n",
      "\u001b[1;31mRun the following command to install 'ipykernel' into the Python environment. \n",
      "\u001b[1;31mCommand: '/usr/bin/python3.10 -m pip install ipykernel -U --user --force-reinstall'"
     ]
    }
   ],
   "source": []
  }
 ],
 "metadata": {
  "kernelspec": {
   "display_name": "Python 3",
   "language": "python",
   "name": "python3"
  },
  "language_info": {
   "codemirror_mode": {
    "name": "ipython",
    "version": 3
   },
   "file_extension": ".py",
   "mimetype": "text/x-python",
   "name": "python",
   "nbconvert_exporter": "python",
   "pygments_lexer": "ipython3",
   "version": "3.10.11"
  },
  "orig_nbformat": 4
 },
 "nbformat": 4,
 "nbformat_minor": 2
}
